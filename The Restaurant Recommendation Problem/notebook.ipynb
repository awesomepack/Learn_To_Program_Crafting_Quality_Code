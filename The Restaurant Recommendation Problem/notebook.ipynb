{
 "cells": [
  {
   "cell_type": "markdown",
   "metadata": {},
   "source": [
    "# The Restaurant Recommendation Problem"
   ]
  },
  {
   "cell_type": "markdown",
   "metadata": {},
   "source": [
    "### The problem\n",
    "    Create a function that accepts a txt file of restaurant features , the price range a user is looking for one of ($ , $$ , $$$ , $$$$) , and a list of cusines the user would like to eat.\n",
    "\n",
    "### Algorithm\n",
    "*   Read the Restaurant.txt file\n",
    "*   Store Restaruant features from the txt file into the appropriate data types\n",
    "*   Lookup a list of restaurants that meet the price criteria\n",
    "*   Filter the resulting list by the Cuisine\n",
    "*   Return a list of lists of the matching restaurants sorted by the rating."
   ]
  },
  {
   "cell_type": "code",
   "execution_count": 8,
   "metadata": {},
   "outputs": [],
   "source": [
    "# Importing Dependencies\n",
    "import re "
   ]
  },
  {
   "cell_type": "code",
   "execution_count": 19,
   "metadata": {},
   "outputs": [],
   "source": [
    "# Reading the txt file\n",
    "# 1) Restaurant 2) Rating 3) Price 4) Cusine 5) Empty\n",
    "\n",
    "# Initialize Data Structure\n",
    "Restaurants = {'Name': [] , 'Rating': [] , 'Price': [] , 'Cusine': []}\n",
    "i = 0\n",
    "with open('Restaurants.txt' , 'r') as f:\n",
    "\n",
    "    for line in f.readlines():\n",
    "        i += 1\n",
    "        if i == 1:\n",
    "            Restaurants['Name'].append(line)\n",
    "\n",
    "        elif i == 2:\n",
    "            Restaurants['Rating'].append(line)\n",
    "        \n",
    "        elif i == 3:\n",
    "            Restaurants['Price'].append(line)\n",
    "        \n",
    "        elif i == 4:\n",
    "            Restaurants['Cusine'].append(line)\n",
    "        \n",
    "        else:\n",
    "            i = 0\n",
    "\n",
    "    \n",
    "\n",
    "\n",
    "f.close()\n",
    "\n",
    "        \n",
    "\n",
    "\n"
   ]
  },
  {
   "cell_type": "code",
   "execution_count": 1,
   "metadata": {},
   "outputs": [
    {
     "name": "stdout",
     "output_type": "stream",
     "text": [
      "(3, -7)\n"
     ]
    }
   ],
   "source": [
    "price_changes = [1 , 2 , -3 , -4]\n",
    "\n",
    "# Group values of the same sign into lists\n",
    "pos = [price for price in price_changes if price >= 0]\n",
    "neg = [price for price in price_changes if price < 0]\n",
    "\n",
    "# return a tuple of the sum of the pos and neg lists\n",
    "print( (sum(pos) , sum(neg)))"
   ]
  },
  {
   "cell_type": "code",
   "execution_count": 2,
   "metadata": {},
   "outputs": [],
   "source": [
    "def stock_price_summary(price_changes):\n",
    "    '''\n",
    "    (List of Numbers --> (number , number) tuple\n",
    "    '''\n",
    "\n",
    "    # Group values of the same sign into lists\n",
    "    pos = [price for price in price_changes if price >= 0]\n",
    "    neg = [price for price in price_changes if price < 0]\n",
    "\n",
    "    return ( sum(pos) , sum(neg) )"
   ]
  },
  {
   "cell_type": "code",
   "execution_count": 5,
   "metadata": {},
   "outputs": [
    {
     "name": "stdout",
     "output_type": "stream",
     "text": [
      "(0.14, -0.17) (0.31, 0)\n"
     ]
    }
   ],
   "source": [
    "# first test case\n",
    "first = stock_price_summary([0.01, 0.03, -0.02, -0.14, 0, 0, 0.10, -0.01])\n",
    "\n",
    "second = stock_price_summary([.01 , .03 , .02 , .25])\n",
    "\n",
    "print(first , second)"
   ]
  },
  {
   "cell_type": "code",
   "execution_count": null,
   "metadata": {},
   "outputs": [],
   "source": [
    "\n",
    "def swap_k(L, k):\n",
    "    \"\"\" (list, int) -> NoneType\n",
    "\n",
    "    Precondtion: 0 <= k <= len(L) // 2\n",
    "\n",
    "    Swap the first k items of L with the last k items of L.\n",
    "\n",
    "    >>> nums = [1, 2, 3, 4, 5, 6]\n",
    "    >>> swap_k(nums, 2)\n",
    "    >>> nums\n",
    "    [5, 6, 3, 4, 1, 2]\n",
    "    \"\"\"\n",
    "    \n"
   ]
  },
  {
   "cell_type": "code",
   "execution_count": 35,
   "metadata": {},
   "outputs": [],
   "source": [
    "nums = [1,2,3,4,5,6]\n",
    "L_F = [nums[x] for x in range(-2 , 0) ]\n",
    "F_L = [nums[x] for x in range(0 , 2)]\n",
    "r = nums[2:-2]\n",
    "result = L_F + r + F_L"
   ]
  },
  {
   "cell_type": "code",
   "execution_count": 36,
   "metadata": {},
   "outputs": [
    {
     "data": {
      "text/plain": [
       "[5, 6, 3, 4, 1, 2]"
      ]
     },
     "execution_count": 36,
     "metadata": {},
     "output_type": "execute_result"
    }
   ],
   "source": [
    "result"
   ]
  },
  {
   "cell_type": "code",
   "execution_count": 32,
   "metadata": {},
   "outputs": [
    {
     "data": {
      "text/plain": [
       "[3, 4]"
      ]
     },
     "execution_count": 32,
     "metadata": {},
     "output_type": "execute_result"
    }
   ],
   "source": []
  },
  {
   "cell_type": "code",
   "execution_count": null,
   "metadata": {},
   "outputs": [],
   "source": []
  }
 ],
 "metadata": {
  "kernelspec": {
   "display_name": "Python 3",
   "language": "python",
   "name": "python3"
  },
  "language_info": {
   "codemirror_mode": {
    "name": "ipython",
    "version": 3
   },
   "file_extension": ".py",
   "mimetype": "text/x-python",
   "name": "python",
   "nbconvert_exporter": "python",
   "pygments_lexer": "ipython3",
   "version": "3.11.4"
  },
  "orig_nbformat": 4
 },
 "nbformat": 4,
 "nbformat_minor": 2
}
