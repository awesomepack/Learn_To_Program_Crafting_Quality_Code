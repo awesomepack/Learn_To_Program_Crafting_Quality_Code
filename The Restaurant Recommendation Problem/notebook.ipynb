{
 "cells": [
  {
   "cell_type": "markdown",
   "metadata": {},
   "source": [
    "# The Restaurant Recommendation Problem"
   ]
  },
  {
   "cell_type": "markdown",
   "metadata": {},
   "source": [
    "### The problem\n",
    "    Create a function that accepts a txt file of restaurant features , the price range a user is looking for one of ($ , $$ , $$$ , $$$$) , and a list of cusines the user would like to eat.\n",
    "\n",
    "### Algorithm\n",
    "*   Read the Restaurant.txt file\n",
    "*   Store Restaruant features from the txt file into the appropriate data types\n",
    "*   Lookup a list of restaurants that meet the price criteria\n",
    "*   Filter the resulting list by the Cuisine\n",
    "*   Return a list of lists of the matching restaurants sorted by the rating."
   ]
  },
  {
   "cell_type": "code",
   "execution_count": 8,
   "metadata": {},
   "outputs": [],
   "source": [
    "# Importing Dependencies\n",
    "import re "
   ]
  },
  {
   "cell_type": "code",
   "execution_count": 19,
   "metadata": {},
   "outputs": [],
   "source": [
    "# Reading the txt file\n",
    "# 1) Restaurant 2) Rating 3) Price 4) Cusine 5) Empty\n",
    "\n",
    "# Initialize Data Structure\n",
    "Restaurants = {'Name': [] , 'Rating': [] , 'Price': [] , 'Cusine': []}\n",
    "i = 0\n",
    "with open('Restaurants.txt' , 'r') as f:\n",
    "\n",
    "    for line in f.readlines():\n",
    "        i += 1\n",
    "        if i == 1:\n",
    "            Restaurants['Name'].append(line)\n",
    "\n",
    "        elif i == 2:\n",
    "            Restaurants['Rating'].append(line)\n",
    "        \n",
    "        elif i == 3:\n",
    "            Restaurants['Price'].append(line)\n",
    "        \n",
    "        elif i == 4:\n",
    "            Restaurants['Cusine'].append(line)\n",
    "        \n",
    "        else:\n",
    "            i = 0\n",
    "\n",
    "    \n",
    "\n",
    "\n",
    "f.close()\n",
    "\n",
    "        \n",
    "\n",
    "\n"
   ]
  },
  {
   "cell_type": "code",
   "execution_count": 6,
   "metadata": {},
   "outputs": [
    {
     "name": "stdout",
     "output_type": "stream",
     "text": [
      "(3, -7)\n"
     ]
    }
   ],
   "source": [
    "price_changes = [1 , 2 , -3 , -4]\n",
    "\n",
    "# Group values of the same sign into lists\n",
    "pos = [price for price in price_changes if price >= 0]\n",
    "neg = [price for price in price_changes if price < 0]\n",
    "\n",
    "# return a tuple of the sum of the pos and neg lists\n",
    "print( (sum(pos) , sum(neg)))"
   ]
  },
  {
   "cell_type": "code",
   "execution_count": null,
   "metadata": {},
   "outputs": [],
   "source": []
  }
 ],
 "metadata": {
  "kernelspec": {
   "display_name": "Python 3",
   "language": "python",
   "name": "python3"
  },
  "language_info": {
   "codemirror_mode": {
    "name": "ipython",
    "version": 3
   },
   "file_extension": ".py",
   "mimetype": "text/x-python",
   "name": "python",
   "nbconvert_exporter": "python",
   "pygments_lexer": "ipython3",
   "version": "3.11.4"
  },
  "orig_nbformat": 4
 },
 "nbformat": 4,
 "nbformat_minor": 2
}
